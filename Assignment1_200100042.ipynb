{
 "cells": [
  {
   "cell_type": "code",
   "execution_count": 2,
   "id": "a8e6f7fb",
   "metadata": {},
   "outputs": [],
   "source": [
    "import pandas as pd\n",
    "import numpy as np\n",
    "from matplotlib import pyplot as plt"
   ]
  },
  {
   "cell_type": "code",
   "execution_count": 3,
   "id": "40fd9c53",
   "metadata": {},
   "outputs": [
    {
     "data": {
      "text/html": [
       "<div>\n",
       "<style scoped>\n",
       "    .dataframe tbody tr th:only-of-type {\n",
       "        vertical-align: middle;\n",
       "    }\n",
       "\n",
       "    .dataframe tbody tr th {\n",
       "        vertical-align: top;\n",
       "    }\n",
       "\n",
       "    .dataframe thead th {\n",
       "        text-align: right;\n",
       "    }\n",
       "</style>\n",
       "<table border=\"1\" class=\"dataframe\">\n",
       "  <thead>\n",
       "    <tr style=\"text-align: right;\">\n",
       "      <th></th>\n",
       "      <th>food</th>\n",
       "      <th>decor</th>\n",
       "      <th>service</th>\n",
       "      <th>price</th>\n",
       "    </tr>\n",
       "  </thead>\n",
       "  <tbody>\n",
       "    <tr>\n",
       "      <th>0</th>\n",
       "      <td>18.0</td>\n",
       "      <td>22.0</td>\n",
       "      <td>17.0</td>\n",
       "      <td>41.0</td>\n",
       "    </tr>\n",
       "    <tr>\n",
       "      <th>1</th>\n",
       "      <td>24.0</td>\n",
       "      <td>22.0</td>\n",
       "      <td>22.0</td>\n",
       "      <td>54.0</td>\n",
       "    </tr>\n",
       "    <tr>\n",
       "      <th>2</th>\n",
       "      <td>18.0</td>\n",
       "      <td>17.0</td>\n",
       "      <td>14.0</td>\n",
       "      <td>32.0</td>\n",
       "    </tr>\n",
       "    <tr>\n",
       "      <th>3</th>\n",
       "      <td>18.0</td>\n",
       "      <td>9.0</td>\n",
       "      <td>13.0</td>\n",
       "      <td>20.0</td>\n",
       "    </tr>\n",
       "    <tr>\n",
       "      <th>4</th>\n",
       "      <td>21.0</td>\n",
       "      <td>12.0</td>\n",
       "      <td>16.0</td>\n",
       "      <td>25.0</td>\n",
       "    </tr>\n",
       "  </tbody>\n",
       "</table>\n",
       "</div>"
      ],
      "text/plain": [
       "   food  decor  service  price\n",
       "0  18.0   22.0     17.0   41.0\n",
       "1  24.0   22.0     22.0   54.0\n",
       "2  18.0   17.0     14.0   32.0\n",
       "3  18.0    9.0     13.0   20.0\n",
       "4  21.0   12.0     16.0   25.0"
      ]
     },
     "execution_count": 3,
     "metadata": {},
     "output_type": "execute_result"
    }
   ],
   "source": [
    "df=pd.read_csv(\"restaurent.csv\")\n",
    "df.head()"
   ]
  },
  {
   "cell_type": "markdown",
   "id": "ba7881e6",
   "metadata": {},
   "source": [
    "price : the price of typical meal <br>\n",
    "food : the swiggy rating for the quality of food <br>\n",
    "service: the swiggy rating for the quality of service <br>\n",
    "decor: The Swiggy rating for the quality of decor"
   ]
  },
  {
   "cell_type": "code",
   "execution_count": 4,
   "id": "986434fb",
   "metadata": {},
   "outputs": [
    {
     "data": {
      "text/plain": [
       "<bound method NDFrame.astype of      food  decor  service  price\n",
       "0    18.0   22.0     17.0   41.0\n",
       "1    24.0   22.0     22.0   54.0\n",
       "2    18.0   17.0     14.0   32.0\n",
       "3    18.0    9.0     13.0   20.0\n",
       "4    21.0   12.0     16.0   25.0\n",
       "..    ...    ...      ...    ...\n",
       "109  20.0   21.0     18.0   40.0\n",
       "110  18.0   14.0     16.0   30.0\n",
       "111  17.0   17.0     18.0   34.0\n",
       "112  20.0   22.0     21.0   51.0\n",
       "113  19.0   14.0     15.0   23.0\n",
       "\n",
       "[114 rows x 4 columns]>"
      ]
     },
     "execution_count": 4,
     "metadata": {},
     "output_type": "execute_result"
    }
   ],
   "source": [
    "df.astype"
   ]
  },
  {
   "cell_type": "code",
   "execution_count": 5,
   "id": "958d05db",
   "metadata": {},
   "outputs": [
    {
     "data": {
      "text/html": [
       "<div>\n",
       "<style scoped>\n",
       "    .dataframe tbody tr th:only-of-type {\n",
       "        vertical-align: middle;\n",
       "    }\n",
       "\n",
       "    .dataframe tbody tr th {\n",
       "        vertical-align: top;\n",
       "    }\n",
       "\n",
       "    .dataframe thead th {\n",
       "        text-align: right;\n",
       "    }\n",
       "</style>\n",
       "<table border=\"1\" class=\"dataframe\">\n",
       "  <thead>\n",
       "    <tr style=\"text-align: right;\">\n",
       "      <th></th>\n",
       "      <th>food</th>\n",
       "      <th>decor</th>\n",
       "      <th>service</th>\n",
       "      <th>price</th>\n",
       "    </tr>\n",
       "  </thead>\n",
       "  <tbody>\n",
       "    <tr>\n",
       "      <th>count</th>\n",
       "      <td>114.000000</td>\n",
       "      <td>114.000000</td>\n",
       "      <td>114.000000</td>\n",
       "      <td>114.000000</td>\n",
       "    </tr>\n",
       "    <tr>\n",
       "      <th>mean</th>\n",
       "      <td>19.605263</td>\n",
       "      <td>16.578947</td>\n",
       "      <td>17.771930</td>\n",
       "      <td>33.315789</td>\n",
       "    </tr>\n",
       "    <tr>\n",
       "      <th>std</th>\n",
       "      <td>2.536873</td>\n",
       "      <td>4.464005</td>\n",
       "      <td>2.847247</td>\n",
       "      <td>11.115895</td>\n",
       "    </tr>\n",
       "    <tr>\n",
       "      <th>min</th>\n",
       "      <td>14.000000</td>\n",
       "      <td>2.000000</td>\n",
       "      <td>10.000000</td>\n",
       "      <td>11.000000</td>\n",
       "    </tr>\n",
       "    <tr>\n",
       "      <th>25%</th>\n",
       "      <td>18.000000</td>\n",
       "      <td>14.000000</td>\n",
       "      <td>16.000000</td>\n",
       "      <td>25.000000</td>\n",
       "    </tr>\n",
       "    <tr>\n",
       "      <th>50%</th>\n",
       "      <td>20.000000</td>\n",
       "      <td>16.500000</td>\n",
       "      <td>18.000000</td>\n",
       "      <td>32.500000</td>\n",
       "    </tr>\n",
       "    <tr>\n",
       "      <th>75%</th>\n",
       "      <td>21.000000</td>\n",
       "      <td>20.000000</td>\n",
       "      <td>20.000000</td>\n",
       "      <td>41.000000</td>\n",
       "    </tr>\n",
       "    <tr>\n",
       "      <th>max</th>\n",
       "      <td>27.000000</td>\n",
       "      <td>28.000000</td>\n",
       "      <td>26.000000</td>\n",
       "      <td>65.000000</td>\n",
       "    </tr>\n",
       "  </tbody>\n",
       "</table>\n",
       "</div>"
      ],
      "text/plain": [
       "             food       decor     service       price\n",
       "count  114.000000  114.000000  114.000000  114.000000\n",
       "mean    19.605263   16.578947   17.771930   33.315789\n",
       "std      2.536873    4.464005    2.847247   11.115895\n",
       "min     14.000000    2.000000   10.000000   11.000000\n",
       "25%     18.000000   14.000000   16.000000   25.000000\n",
       "50%     20.000000   16.500000   18.000000   32.500000\n",
       "75%     21.000000   20.000000   20.000000   41.000000\n",
       "max     27.000000   28.000000   26.000000   65.000000"
      ]
     },
     "execution_count": 5,
     "metadata": {},
     "output_type": "execute_result"
    }
   ],
   "source": [
    "df.describe()"
   ]
  },
  {
   "cell_type": "code",
   "execution_count": 6,
   "id": "79724d2d",
   "metadata": {},
   "outputs": [
    {
     "name": "stdout",
     "output_type": "stream",
     "text": [
      "<class 'pandas.core.frame.DataFrame'>\n",
      "RangeIndex: 114 entries, 0 to 113\n",
      "Data columns (total 4 columns):\n",
      " #   Column   Non-Null Count  Dtype  \n",
      "---  ------   --------------  -----  \n",
      " 0   food     114 non-null    float64\n",
      " 1   decor    114 non-null    float64\n",
      " 2   service  114 non-null    float64\n",
      " 3   price    114 non-null    float64\n",
      "dtypes: float64(4)\n",
      "memory usage: 3.7 KB\n"
     ]
    }
   ],
   "source": [
    "df.info()"
   ]
  },
  {
   "cell_type": "markdown",
   "id": "64d32daf",
   "metadata": {},
   "source": [
    "Observation: There are no null entries"
   ]
  },
  {
   "cell_type": "markdown",
   "id": "784090aa",
   "metadata": {},
   "source": [
    "## Randomly selecting 50 Elements"
   ]
  },
  {
   "cell_type": "code",
   "execution_count": 7,
   "id": "f4fc8a06",
   "metadata": {},
   "outputs": [
    {
     "name": "stdout",
     "output_type": "stream",
     "text": [
      "<class 'pandas.core.frame.DataFrame'>\n",
      "Int64Index: 50 entries, 15 to 47\n",
      "Data columns (total 4 columns):\n",
      " #   Column   Non-Null Count  Dtype  \n",
      "---  ------   --------------  -----  \n",
      " 0   food     50 non-null     float64\n",
      " 1   decor    50 non-null     float64\n",
      " 2   service  50 non-null     float64\n",
      " 3   price    50 non-null     float64\n",
      "dtypes: float64(4)\n",
      "memory usage: 2.0 KB\n"
     ]
    }
   ],
   "source": [
    "df50 =df.sample(n=50)\n",
    "df50.info()"
   ]
  },
  {
   "cell_type": "code",
   "execution_count": 8,
   "id": "c68ec540",
   "metadata": {},
   "outputs": [
    {
     "data": {
      "text/html": [
       "<div>\n",
       "<style scoped>\n",
       "    .dataframe tbody tr th:only-of-type {\n",
       "        vertical-align: middle;\n",
       "    }\n",
       "\n",
       "    .dataframe tbody tr th {\n",
       "        vertical-align: top;\n",
       "    }\n",
       "\n",
       "    .dataframe thead th {\n",
       "        text-align: right;\n",
       "    }\n",
       "</style>\n",
       "<table border=\"1\" class=\"dataframe\">\n",
       "  <thead>\n",
       "    <tr style=\"text-align: right;\">\n",
       "      <th></th>\n",
       "      <th>food</th>\n",
       "      <th>decor</th>\n",
       "      <th>service</th>\n",
       "      <th>price</th>\n",
       "    </tr>\n",
       "  </thead>\n",
       "  <tbody>\n",
       "    <tr>\n",
       "      <th>count</th>\n",
       "      <td>50.000000</td>\n",
       "      <td>50.000000</td>\n",
       "      <td>50.000000</td>\n",
       "      <td>50.000000</td>\n",
       "    </tr>\n",
       "    <tr>\n",
       "      <th>mean</th>\n",
       "      <td>19.620000</td>\n",
       "      <td>16.580000</td>\n",
       "      <td>17.900000</td>\n",
       "      <td>33.180000</td>\n",
       "    </tr>\n",
       "    <tr>\n",
       "      <th>std</th>\n",
       "      <td>2.355107</td>\n",
       "      <td>4.025886</td>\n",
       "      <td>2.689739</td>\n",
       "      <td>10.777319</td>\n",
       "    </tr>\n",
       "    <tr>\n",
       "      <th>min</th>\n",
       "      <td>16.000000</td>\n",
       "      <td>7.000000</td>\n",
       "      <td>12.000000</td>\n",
       "      <td>15.000000</td>\n",
       "    </tr>\n",
       "    <tr>\n",
       "      <th>25%</th>\n",
       "      <td>18.000000</td>\n",
       "      <td>14.000000</td>\n",
       "      <td>16.000000</td>\n",
       "      <td>25.000000</td>\n",
       "    </tr>\n",
       "    <tr>\n",
       "      <th>50%</th>\n",
       "      <td>19.500000</td>\n",
       "      <td>16.000000</td>\n",
       "      <td>18.000000</td>\n",
       "      <td>32.000000</td>\n",
       "    </tr>\n",
       "    <tr>\n",
       "      <th>75%</th>\n",
       "      <td>21.000000</td>\n",
       "      <td>19.000000</td>\n",
       "      <td>20.000000</td>\n",
       "      <td>40.750000</td>\n",
       "    </tr>\n",
       "    <tr>\n",
       "      <th>max</th>\n",
       "      <td>26.000000</td>\n",
       "      <td>27.000000</td>\n",
       "      <td>26.000000</td>\n",
       "      <td>65.000000</td>\n",
       "    </tr>\n",
       "  </tbody>\n",
       "</table>\n",
       "</div>"
      ],
      "text/plain": [
       "            food      decor    service      price\n",
       "count  50.000000  50.000000  50.000000  50.000000\n",
       "mean   19.620000  16.580000  17.900000  33.180000\n",
       "std     2.355107   4.025886   2.689739  10.777319\n",
       "min    16.000000   7.000000  12.000000  15.000000\n",
       "25%    18.000000  14.000000  16.000000  25.000000\n",
       "50%    19.500000  16.000000  18.000000  32.000000\n",
       "75%    21.000000  19.000000  20.000000  40.750000\n",
       "max    26.000000  27.000000  26.000000  65.000000"
      ]
     },
     "execution_count": 8,
     "metadata": {},
     "output_type": "execute_result"
    }
   ],
   "source": [
    "df50.describe()"
   ]
  },
  {
   "cell_type": "markdown",
   "id": "a07e53e1",
   "metadata": {},
   "source": [
    "# Question (a)\n",
    "Plot price vs. each of the three independent variables. Does it seem like \n",
    "y (price) is related to the x’s (food, service, and decor)?"
   ]
  },
  {
   "cell_type": "code",
   "execution_count": 9,
   "id": "ed861946",
   "metadata": {},
   "outputs": [
    {
     "data": {
      "text/plain": [
       "Text(0.5, 1.0, 'food vs price')"
      ]
     },
     "execution_count": 9,
     "metadata": {},
     "output_type": "execute_result"
    },
    {
     "data": {
      "image/png": "[encoded data removed]",
      "text/plain": [
       "<Figure size 432x288 with 1 Axes>"
      ]
     },
     "metadata": {
      "needs_background": "light"
     },
     "output_type": "display_data"
    }
   ],
   "source": [
    "plt.scatter(df50['food'], df50['price'])\n",
    "plt.xlabel('food') \n",
    "plt.ylabel('price')\n",
    "plt.title(\"food vs price\")"
   ]
  },
  {
   "cell_type": "code",
   "execution_count": 10,
   "id": "90d51724",
   "metadata": {},
   "outputs": [
    {
     "data": {
      "text/plain": [
       "Text(0.5, 1.0, 'decor vs price')"
      ]
     },
     "execution_count": 10,
     "metadata": {},
     "output_type": "execute_result"
    },
    {
     "data": {
      "image/png": "[encoded data removed]",
      "text/plain": [
       "<Figure size 432x288 with 1 Axes>"
      ]
     },
     "metadata": {
      "needs_background": "light"
     },
     "output_type": "display_data"
    }
   ],
   "source": [
    "plt.scatter(df50['decor'],df50['price'])\n",
    "plt.xlabel('decor') \n",
    "plt.ylabel('price') \n",
    "plt.title(\"decor vs price\")"
   ]
  },
  {
   "cell_type": "code",
   "execution_count": 11,
   "id": "9101971a",
   "metadata": {},
   "outputs": [
    {
     "data": {
      "text/plain": [
       "Text(0.5, 1.0, 'service vs price')"
      ]
     },
     "execution_count": 11,
     "metadata": {},
     "output_type": "execute_result"
    },
    {
     "data": {
      "image/png": "[encoded data removed]",
      "text/plain": [
       "<Figure size 432x288 with 1 Axes>"
      ]
     },
     "metadata": {
      "needs_background": "light"
     },
     "output_type": "display_data"
    }
   ],
   "source": [
    "plt.scatter(df50['service'],df50['price'])\n",
    "plt.xlabel('service') \n",
    "plt.ylabel('price') \n",
    "plt.title('service vs price')"
   ]
  },
  {
   "cell_type": "markdown",
   "id": "0be1e104",
   "metadata": {},
   "source": [
    "## Observation\n",
    "Yes, It seems like price is related to x's (food, service and decor). "
   ]
  },
  {
   "cell_type": "code",
   "execution_count": null,
   "id": "cec4d1cf",
   "metadata": {},
   "outputs": [],
   "source": []
  },
  {
   "cell_type": "code",
   "execution_count": 12,
   "id": "4d5769ef",
   "metadata": {},
   "outputs": [
    {
     "data": {
      "text/plain": [
       "((50, 3), (50,))"
      ]
     },
     "execution_count": 12,
     "metadata": {},
     "output_type": "execute_result"
    }
   ],
   "source": [
    "X = df50[[\"food\", \"decor\", \"service\"]].to_numpy()\n",
    "Y = df50[\"price\"].to_numpy()\n",
    "X.shape, Y.shape"
   ]
  },
  {
   "cell_type": "markdown",
   "id": "acc9a33b",
   "metadata": {},
   "source": [
    "## Model Building : Linear Regression "
   ]
  },
  {
   "cell_type": "code",
   "execution_count": 13,
   "id": "1128b8aa",
   "metadata": {},
   "outputs": [],
   "source": [
    "class GradientDescentLR:\n",
    "    def __init__(self) -> None:\n",
    "        self.X = None\n",
    "        self.Y = None\n",
    "        self.parameters = None\n",
    "        self.cost_history = []\n",
    "        self.mu = None\n",
    "        self.sigma = None\n",
    "    \n",
    "    def calculate_cost(self):\n",
    "        \"\"\"\n",
    "        Returns the cost and gradients.\n",
    "        parameters: None\n",
    "        \n",
    "        Returns:\n",
    "            cost : Caculated loss (scalar).\n",
    "            gradients: array containing the gradients w.r.t each parameter\n",
    "\n",
    "        \"\"\"\n",
    "\n",
    "        m = self.X.shape[0]\n",
    "\n",
    "        y_hat = np.dot(self.X, self.parameters)\n",
    "        y_hat = y_hat.reshape(-1)\n",
    "        error = y_hat - self.Y\n",
    "\n",
    "        cost = np.dot(error.T, error)/(2*m)\n",
    "\n",
    "        gradients = np.zeros(self.X.shape[1])\n",
    "\n",
    "        for i in range(self.X.shape[1]):\n",
    "            gradients[i] = np.mean(error * self.X[:,i])\n",
    "\n",
    "        return cost, gradients\n",
    "    def init_parameters(self):\n",
    "        \"\"\"\n",
    "        Initialize the parameters as array of 0s\n",
    "        parameters: None\n",
    "        \n",
    "        Returns:None\n",
    "\n",
    "        \"\"\"\n",
    "        self.parameters = np.zeros((self.X.shape[1],1))\n",
    "\n",
    "\n",
    "    def feature_normalize(self, X):\n",
    "        \"\"\"\n",
    "        Normalize the samples.\n",
    "        parameters: \n",
    "            X : input/feature matrix\n",
    "        \n",
    "        Returns:\n",
    "            X_norm : Normalized X.\n",
    "\n",
    "        \"\"\"\n",
    "        X_norm = X.copy()\n",
    "        mu = np.mean(X, axis=0)\n",
    "        sigma = np.std(X, axis=0)\n",
    "\n",
    "        self.mu = mu\n",
    "        self.sigma = sigma\n",
    "\n",
    "        for n in range(X.shape[1]):\n",
    "            X_norm[:,n] = (X_norm[:,n] - mu[n]) / sigma[n]\n",
    "        return X_norm\n",
    "    def fit(self, x, y, learning_rate=0.01, epochs=500, is_normalize=True, verbose=0):\n",
    "        \"\"\"\n",
    "        Iterates and find the optimal parameters for input dataset\n",
    "        parameters: \n",
    "            x : input/feature matrix\n",
    "            y : target matrix\n",
    "            learning_rate: between 0 and 1 (default is 0.01)\n",
    "            epochs: number of iterations (default is 500)\n",
    "            is_normalize: boolean, for normalizing features (default is True)\n",
    "            verbose: iterations after to print cost\n",
    "        \n",
    "        Returns:\n",
    "            parameters : Array of optimal value of weights.\n",
    "\n",
    "        \"\"\"\n",
    "        self.X = x\n",
    "        self.Y = y\n",
    "        self.cost_history = []\n",
    "        if self.X.ndim == 1: # adding extra dimension, if X is a 1-D array\n",
    "            self.X = self.X.reshape(-1,1)\n",
    "            is_normalize = False\n",
    "        if is_normalize:\n",
    "            self.X = self.feature_normalize(self.X)\n",
    "        self.X = np.concatenate([np.ones((self.X.shape[0],1)), self.X], axis=1)\n",
    "        self.init_parameters()\n",
    "\n",
    "        for i in range(epochs):\n",
    "            cost, gradients = self.calculate_cost()\n",
    "            self.cost_history.append(cost)\n",
    "            self.parameters -= learning_rate * gradients.reshape(-1,1)\n",
    "\n",
    "            if verbose:\n",
    "                if not (i % verbose):\n",
    "                    print(f\"Cost after {i} epochs: {cost}\")\n",
    "\n",
    "        return self.parameters\n",
    "    \n",
    "    def predict(self,x, is_normalize=True):\n",
    "        \"\"\"\n",
    "        Returns the predictions after fitting.\n",
    "        parameters: \n",
    "            x : input/feature matrix\n",
    "        \n",
    "        Returns:\n",
    "            predictions : Array of predicted target values.\n",
    "\n",
    "        \"\"\"\n",
    "        x = np.array(x, dtype=np.float64) # converting list to numpy array\n",
    "        if x.ndim == 1:\n",
    "            x = x.reshape(1,-1)\n",
    "        if is_normalize:\n",
    "            for n in range(x.shape[1]):\n",
    "                x[:,n] = (x[:,n] - self.mu[n]) / self.sigma[n]\n",
    "        x = np.concatenate([np.ones((x.shape[0],1)), x], axis=1)\n",
    "        return np.dot(x,self.parameters)\n",
    "        "
   ]
  },
  {
   "cell_type": "code",
   "execution_count": 14,
   "id": "2da36543",
   "metadata": {},
   "outputs": [],
   "source": [
    "model = GradientDescentLR()\n",
    "parameters=model.fit(x=X, y=Y, learning_rate=0.01, epochs=400)\n",
    "pred_y = model.predict(X).reshape(-1)"
   ]
  },
  {
   "cell_type": "markdown",
   "id": "14b7e041",
   "metadata": {},
   "source": [
    " y = b + w1X1 + w2X2 + w3X3 <br>\n",
    "X1 = food <br>\n",
    "X2 = decor <br>\n",
    "X3 = service "
   ]
  },
  {
   "cell_type": "code",
   "execution_count": 15,
   "id": "01ed71f3",
   "metadata": {},
   "outputs": [
    {
     "data": {
      "text/plain": [
       "array([[32.58440064],\n",
       "       [ 4.23946188],\n",
       "       [ 3.6947644 ],\n",
       "       [ 2.17155033]])"
      ]
     },
     "execution_count": 15,
     "metadata": {},
     "output_type": "execute_result"
    }
   ],
   "source": [
    "parameters"
   ]
  },
  {
   "cell_type": "markdown",
   "id": "47421d05",
   "metadata": {},
   "source": []
  },
  {
   "cell_type": "code",
   "execution_count": 17,
   "id": "8d8adb93",
   "metadata": {},
   "outputs": [
    {
     "data": {
      "image/png": "[encoded data removed]",
      "text/plain": [
       "<Figure size 432x288 with 1 Axes>"
      ]
     },
     "metadata": {
      "needs_background": "light"
     },
     "output_type": "display_data"
    }
   ],
   "source": [
    "index=np.arange(1,51)\n",
    "plt.plot(index,Y,label=\"Actual price\")\n",
    "plt.plot(index,pred_y, label=\"Predicted price\")\n",
    "plt.legend()\n",
    "plt.show()"
   ]
  },
  {
   "cell_type": "code",
   "execution_count": 18,
   "id": "7f75e0f4",
   "metadata": {},
   "outputs": [
    {
     "data": {
      "text/plain": [
       "39.153024238092755"
      ]
     },
     "execution_count": 18,
     "metadata": {},
     "output_type": "execute_result"
    }
   ],
   "source": [
    "error= Y-pred_y\n",
    "MSE=sum((error*error)/50)\n",
    "MSE"
   ]
  },
  {
   "cell_type": "code",
   "execution_count": null,
   "id": "12d5b82e",
   "metadata": {},
   "outputs": [],
   "source": []
  },
  {
   "cell_type": "markdown",
   "id": "76aec7af",
   "metadata": {},
   "source": [
    "## (b)\n",
    " Suppose a restaurant has food = 125, service=148, and decor=265. Run \n",
    "the regression of price on food, decor, and service and give the 95% \n",
    "predictive interval for the price of a meal."
   ]
  },
  {
   "cell_type": "code",
   "execution_count": 19,
   "id": "53d276d1",
   "metadata": {},
   "outputs": [
    {
     "data": {
      "text/plain": [
       "array([560.611041])"
      ]
     },
     "execution_count": 19,
     "metadata": {},
     "output_type": "execute_result"
    }
   ],
   "source": [
    "price_pred=model.predict([[125,265,148]]).reshape(-1)\n",
    "price_pred"
   ]
  },
  {
   "cell_type": "code",
   "execution_count": 20,
   "id": "56283cb4",
   "metadata": {},
   "outputs": [
    {
     "data": {
      "text/plain": [
       "6.386266534369928"
      ]
     },
     "execution_count": 20,
     "metadata": {},
     "output_type": "execute_result"
    }
   ],
   "source": [
    "sum_errs = sum((Y-pred_y)*(Y-pred_y))\n",
    "stdev = np.sqrt(1/(len(Y)-2) * sum_errs)\n",
    "z=1.96\n",
    "stdev"
   ]
  },
  {
   "cell_type": "markdown",
   "id": "f4aa8bbe",
   "metadata": {},
   "source": [
    "For 95% prediction interval we use z=1.96   "
   ]
  },
  {
   "cell_type": "code",
   "execution_count": 21,
   "id": "33aeb56e",
   "metadata": {},
   "outputs": [
    {
     "name": "stdout",
     "output_type": "stream",
     "text": [
      "95% prediction Interval: (548.0939585959604 , 573.1281234106905 )\n"
     ]
    }
   ],
   "source": [
    "interval = z*stdev\n",
    "lower, upper = price_pred - interval, price_pred + interval\n",
    "print(\"95% prediction Interval: (\",end=\"\")\n",
    "print(lower[0],\",\",upper[0],\")\")"
   ]
  },
  {
   "cell_type": "markdown",
   "id": "612925a9",
   "metadata": {},
   "source": [
    "# Question (c)\n",
    " What is the interpretation of the coefficient estimate for the explanatory \n",
    "variable food in the multiple regression from part (b)?"
   ]
  },
  {
   "cell_type": "markdown",
   "id": "3cb264f8",
   "metadata": {},
   "source": [
    "Ans: Coefficient estimate for the explanatory variable food in the multiple regression model is equal to w1 = 4.23946188. This is highest among the parameters w1, w2, w3. We can interpretate that the contribution of food in the price is more than service and decor. "
   ]
  },
  {
   "cell_type": "markdown",
   "id": "30fd6b53",
   "metadata": {},
   "source": [
    "## Question (d)\n",
    "Suppose you were to regress price on the one variable food in a simple \n",
    "linear regression? What would be the interpretation of the slope? Plot food \n",
    "vs. service. Is there a relationship? Does it make sense? What is your\n",
    "prediction for how the estimated coefficient for the variable food in the \n",
    "regression of price on food will compare to the estimated coefficient for food \n",
    "in the regression of price on food, service, and decor? Run the simple linear \n",
    "regression of price on food and see if you are right! Why are\n",
    "the coefficients different in the two regressions?\n"
   ]
  },
  {
   "cell_type": "markdown",
   "id": "89ddb7d1",
   "metadata": {},
   "source": [
    "### Interpretation of slope in simple linear regression:\n",
    "Slope will represent the weightage of food in the price calculation. "
   ]
  },
  {
   "cell_type": "markdown",
   "id": "5efc801c",
   "metadata": {},
   "source": [
    "### Plot food vs service"
   ]
  },
  {
   "cell_type": "code",
   "execution_count": 28,
   "id": "ce144bc5",
   "metadata": {},
   "outputs": [
    {
     "data": {
      "text/plain": [
       "Text(0.5, 1.0, 'food vs service')"
      ]
     },
     "execution_count": 28,
     "metadata": {},
     "output_type": "execute_result"
    },
    {
     "data": {
      "image/png": "[encoded data removed]",
      "text/plain": [
       "<Figure size 432x288 with 1 Axes>"
      ]
     },
     "metadata": {
      "needs_background": "light"
     },
     "output_type": "display_data"
    }
   ],
   "source": [
    "plt.scatter(df50['food'], df50['service'])\n",
    "plt.xlabel('food') \n",
    "plt.ylabel('service')\n",
    "plt.title(\"food vs service\")"
   ]
  },
  {
   "cell_type": "markdown",
   "id": "5e38481f",
   "metadata": {},
   "source": [
    "### Relationship in food vs service\n",
    "It can be observed that for the same food quality rating there are multiple services available. It does make sense of having differnt types of service for the same food rating. "
   ]
  },
  {
   "cell_type": "markdown",
   "id": "31a738e4",
   "metadata": {},
   "source": [
    "## My Prediction:\n",
    "The slope of simple linear regression in one variable food is the weightage of food in the price and this should be higher than that of the weightage of food in price obtained in the calculation of price with all the variable."
   ]
  },
  {
   "cell_type": "code",
   "execution_count": 29,
   "id": "4643ee94",
   "metadata": {},
   "outputs": [
    {
     "data": {
      "text/plain": [
       "((50, 1), (50,))"
      ]
     },
     "execution_count": 29,
     "metadata": {},
     "output_type": "execute_result"
    }
   ],
   "source": [
    "X1 = df50[[\"food\"]].to_numpy()\n",
    "Y1 = df50[\"price\"].to_numpy()\n",
    "X1.shape, Y1.shape"
   ]
  },
  {
   "cell_type": "code",
   "execution_count": 30,
   "id": "d90e7605",
   "metadata": {},
   "outputs": [],
   "source": [
    "model1 = GradientDescentLR()\n",
    "parameters1=model.fit(x=X1, y=Y1, learning_rate=0.01, epochs=400)\n",
    "pred_y1 = model.predict(X1).reshape(-1)"
   ]
  },
  {
   "cell_type": "code",
   "execution_count": 31,
   "id": "6c146894",
   "metadata": {},
   "outputs": [
    {
     "data": {
      "text/plain": [
       "array([[32.58440064],\n",
       "       [ 7.315928  ]])"
      ]
     },
     "execution_count": 31,
     "metadata": {},
     "output_type": "execute_result"
    }
   ],
   "source": [
    "parameters1"
   ]
  },
  {
   "cell_type": "markdown",
   "id": "99fc9cb7",
   "metadata": {},
   "source": [
    "### Yes, My prediction is absolutely correct. It is very obvious too. "
   ]
  },
  {
   "cell_type": "code",
   "execution_count": 32,
   "id": "2210d86d",
   "metadata": {},
   "outputs": [
    {
     "name": "stdout",
     "output_type": "stream",
     "text": [
      "Coefficent in simple regression:  7.315928002109274\n",
      "Coefficent in multiple linear regression:  4.239461878589377\n"
     ]
    }
   ],
   "source": [
    "print(\"Coefficent in simple regression: \",parameters1[1][0])\n",
    "print(\"Coefficent in multiple linear regression: \",parameters[1][0])"
   ]
  },
  {
   "cell_type": "markdown",
   "id": "dbe466e7",
   "metadata": {},
   "source": [
    "# Question (e)\n",
    "Suppose I asked you to use the multiple regression results to predict the \n",
    "price of a meal at a restaurant with food = 20, service = 3, and decor =17. \n",
    "How would you feel about it?\n"
   ]
  },
  {
   "cell_type": "markdown",
   "id": "4d22ad79",
   "metadata": {},
   "source": [
    "Ans: This is pretty straight forward. feels easy. I will just use predict the price directly with the help of model that I have built. "
   ]
  },
  {
   "cell_type": "code",
   "execution_count": 35,
   "id": "0a1b5059",
   "metadata": {},
   "outputs": [
    {
     "data": {
      "text/plain": [
       "array([[21.51316956]])"
      ]
     },
     "execution_count": 35,
     "metadata": {},
     "output_type": "execute_result"
    }
   ],
   "source": [
    "model = GradientDescentLR()\n",
    "parameters=model.fit(x=X, y=Y, learning_rate=0.01, epochs=400)\n",
    "pred_y = model.predict(X).reshape(-1)\n",
    "price=model.predict([[20,17,3]])\n",
    "price"
   ]
  },
  {
   "cell_type": "markdown",
   "id": "07e558e7",
   "metadata": {},
   "source": [
    "Seems very reasonable prediction"
   ]
  },
  {
   "cell_type": "code",
   "execution_count": null,
   "id": "228e9822",
   "metadata": {},
   "outputs": [],
   "source": []
  }
 ],
 "metadata": {
  "kernelspec": {
   "display_name": "Python 3",
   "language": "python",
   "name": "python3"
  },
  "language_info": {
   "codemirror_mode": {
    "name": "ipython",
    "version": 3
   },
   "file_extension": ".py",
   "mimetype": "text/x-python",
   "name": "python",
   "nbconvert_exporter": "python",
   "pygments_lexer": "ipython3",
   "version": "3.8.8"
  }
 },
 "nbformat": 4,
 "nbformat_minor": 5
}
